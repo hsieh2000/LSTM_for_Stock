{
 "cells": [
  {
   "cell_type": "code",
   "execution_count": 1,
   "metadata": {
    "id": "QnTDUPRqQ_9d"
   },
   "outputs": [],
   "source": [
    "import matplotlib.pyplot as plt\n",
    "import numpy as np\n",
    "import pandas as pd\n",
    "import torch\n",
    "import torch.nn as nn\n",
    "import torch.optim as optim\n",
    "import torch.utils.data as data\n",
    "from sklearn.preprocessing import StandardScaler\n",
    "\n",
    "import plotly.express as px\n"
   ]
  },
  {
   "cell_type": "code",
   "execution_count": 3,
   "metadata": {
    "colab": {
     "base_uri": "https://localhost:8080/",
     "height": 423
    },
    "id": "dXceOKy33xJT",
    "outputId": "84ef84ea-6226-4aeb-8b79-20e231c6ef22"
   },
   "outputs": [
    {
     "data": {
      "text/html": [
       "\n",
       "  <div id=\"df-361b74e8-b74d-45fc-b678-46afc0fea33e\">\n",
       "    <div class=\"colab-df-container\">\n",
       "      <div>\n",
       "<style scoped>\n",
       "    .dataframe tbody tr th:only-of-type {\n",
       "        vertical-align: middle;\n",
       "    }\n",
       "\n",
       "    .dataframe tbody tr th {\n",
       "        vertical-align: top;\n",
       "    }\n",
       "\n",
       "    .dataframe thead th {\n",
       "        text-align: right;\n",
       "    }\n",
       "</style>\n",
       "<table border=\"1\" class=\"dataframe\">\n",
       "  <thead>\n",
       "    <tr style=\"text-align: right;\">\n",
       "      <th></th>\n",
       "      <th>mdate</th>\n",
       "      <th>open_d</th>\n",
       "      <th>high_d</th>\n",
       "      <th>low_d</th>\n",
       "      <th>close_d</th>\n",
       "      <th>volume</th>\n",
       "    </tr>\n",
       "  </thead>\n",
       "  <tbody>\n",
       "    <tr>\n",
       "      <th>0</th>\n",
       "      <td>2020-01-02</td>\n",
       "      <td>332.5</td>\n",
       "      <td>339.0</td>\n",
       "      <td>332.5</td>\n",
       "      <td>339.0</td>\n",
       "      <td>33282.120</td>\n",
       "    </tr>\n",
       "    <tr>\n",
       "      <th>1</th>\n",
       "      <td>2020-01-03</td>\n",
       "      <td>344.0</td>\n",
       "      <td>345.0</td>\n",
       "      <td>335.5</td>\n",
       "      <td>339.5</td>\n",
       "      <td>42023.268</td>\n",
       "    </tr>\n",
       "    <tr>\n",
       "      <th>2</th>\n",
       "      <td>2020-01-06</td>\n",
       "      <td>333.0</td>\n",
       "      <td>334.5</td>\n",
       "      <td>332.0</td>\n",
       "      <td>332.0</td>\n",
       "      <td>45677.057</td>\n",
       "    </tr>\n",
       "    <tr>\n",
       "      <th>3</th>\n",
       "      <td>2020-01-07</td>\n",
       "      <td>332.5</td>\n",
       "      <td>333.0</td>\n",
       "      <td>326.5</td>\n",
       "      <td>329.5</td>\n",
       "      <td>51746.181</td>\n",
       "    </tr>\n",
       "    <tr>\n",
       "      <th>4</th>\n",
       "      <td>2020-01-08</td>\n",
       "      <td>325.0</td>\n",
       "      <td>333.0</td>\n",
       "      <td>325.0</td>\n",
       "      <td>329.5</td>\n",
       "      <td>37913.748</td>\n",
       "    </tr>\n",
       "    <tr>\n",
       "      <th>...</th>\n",
       "      <td>...</td>\n",
       "      <td>...</td>\n",
       "      <td>...</td>\n",
       "      <td>...</td>\n",
       "      <td>...</td>\n",
       "      <td>...</td>\n",
       "    </tr>\n",
       "    <tr>\n",
       "      <th>730</th>\n",
       "      <td>2022-12-26</td>\n",
       "      <td>454.0</td>\n",
       "      <td>457.0</td>\n",
       "      <td>453.5</td>\n",
       "      <td>456.5</td>\n",
       "      <td>9152.790</td>\n",
       "    </tr>\n",
       "    <tr>\n",
       "      <th>731</th>\n",
       "      <td>2022-12-27</td>\n",
       "      <td>458.0</td>\n",
       "      <td>462.5</td>\n",
       "      <td>457.0</td>\n",
       "      <td>457.0</td>\n",
       "      <td>10486.219</td>\n",
       "    </tr>\n",
       "    <tr>\n",
       "      <th>732</th>\n",
       "      <td>2022-12-28</td>\n",
       "      <td>451.0</td>\n",
       "      <td>452.0</td>\n",
       "      <td>446.0</td>\n",
       "      <td>451.0</td>\n",
       "      <td>34823.492</td>\n",
       "    </tr>\n",
       "    <tr>\n",
       "      <th>733</th>\n",
       "      <td>2022-12-29</td>\n",
       "      <td>444.0</td>\n",
       "      <td>449.5</td>\n",
       "      <td>442.5</td>\n",
       "      <td>446.0</td>\n",
       "      <td>25596.357</td>\n",
       "    </tr>\n",
       "    <tr>\n",
       "      <th>734</th>\n",
       "      <td>2022-12-30</td>\n",
       "      <td>455.0</td>\n",
       "      <td>456.5</td>\n",
       "      <td>448.5</td>\n",
       "      <td>448.5</td>\n",
       "      <td>22297.604</td>\n",
       "    </tr>\n",
       "  </tbody>\n",
       "</table>\n",
       "<p>735 rows × 6 columns</p>\n",
       "</div>\n",
       "      <button class=\"colab-df-convert\" onclick=\"convertToInteractive('df-361b74e8-b74d-45fc-b678-46afc0fea33e')\"\n",
       "              title=\"Convert this dataframe to an interactive table.\"\n",
       "              style=\"display:none;\">\n",
       "        \n",
       "  <svg xmlns=\"http://www.w3.org/2000/svg\" height=\"24px\"viewBox=\"0 0 24 24\"\n",
       "       width=\"24px\">\n",
       "    <path d=\"M0 0h24v24H0V0z\" fill=\"none\"/>\n",
       "    <path d=\"M18.56 5.44l.94 2.06.94-2.06 2.06-.94-2.06-.94-.94-2.06-.94 2.06-2.06.94zm-11 1L8.5 8.5l.94-2.06 2.06-.94-2.06-.94L8.5 2.5l-.94 2.06-2.06.94zm10 10l.94 2.06.94-2.06 2.06-.94-2.06-.94-.94-2.06-.94 2.06-2.06.94z\"/><path d=\"M17.41 7.96l-1.37-1.37c-.4-.4-.92-.59-1.43-.59-.52 0-1.04.2-1.43.59L10.3 9.45l-7.72 7.72c-.78.78-.78 2.05 0 2.83L4 21.41c.39.39.9.59 1.41.59.51 0 1.02-.2 1.41-.59l7.78-7.78 2.81-2.81c.8-.78.8-2.07 0-2.86zM5.41 20L4 18.59l7.72-7.72 1.47 1.35L5.41 20z\"/>\n",
       "  </svg>\n",
       "      </button>\n",
       "      \n",
       "  <style>\n",
       "    .colab-df-container {\n",
       "      display:flex;\n",
       "      flex-wrap:wrap;\n",
       "      gap: 12px;\n",
       "    }\n",
       "\n",
       "    .colab-df-convert {\n",
       "      background-color: #E8F0FE;\n",
       "      border: none;\n",
       "      border-radius: 50%;\n",
       "      cursor: pointer;\n",
       "      display: none;\n",
       "      fill: #1967D2;\n",
       "      height: 32px;\n",
       "      padding: 0 0 0 0;\n",
       "      width: 32px;\n",
       "    }\n",
       "\n",
       "    .colab-df-convert:hover {\n",
       "      background-color: #E2EBFA;\n",
       "      box-shadow: 0px 1px 2px rgba(60, 64, 67, 0.3), 0px 1px 3px 1px rgba(60, 64, 67, 0.15);\n",
       "      fill: #174EA6;\n",
       "    }\n",
       "\n",
       "    [theme=dark] .colab-df-convert {\n",
       "      background-color: #3B4455;\n",
       "      fill: #D2E3FC;\n",
       "    }\n",
       "\n",
       "    [theme=dark] .colab-df-convert:hover {\n",
       "      background-color: #434B5C;\n",
       "      box-shadow: 0px 1px 3px 1px rgba(0, 0, 0, 0.15);\n",
       "      filter: drop-shadow(0px 1px 2px rgba(0, 0, 0, 0.3));\n",
       "      fill: #FFFFFF;\n",
       "    }\n",
       "  </style>\n",
       "\n",
       "      <script>\n",
       "        const buttonEl =\n",
       "          document.querySelector('#df-361b74e8-b74d-45fc-b678-46afc0fea33e button.colab-df-convert');\n",
       "        buttonEl.style.display =\n",
       "          google.colab.kernel.accessAllowed ? 'block' : 'none';\n",
       "\n",
       "        async function convertToInteractive(key) {\n",
       "          const element = document.querySelector('#df-361b74e8-b74d-45fc-b678-46afc0fea33e');\n",
       "          const dataTable =\n",
       "            await google.colab.kernel.invokeFunction('convertToInteractive',\n",
       "                                                     [key], {});\n",
       "          if (!dataTable) return;\n",
       "\n",
       "          const docLinkHtml = 'Like what you see? Visit the ' +\n",
       "            '<a target=\"_blank\" href=https://colab.research.google.com/notebooks/data_table.ipynb>data table notebook</a>'\n",
       "            + ' to learn more about interactive tables.';\n",
       "          element.innerHTML = '';\n",
       "          dataTable['output_type'] = 'display_data';\n",
       "          await google.colab.output.renderOutput(dataTable, element);\n",
       "          const docLink = document.createElement('div');\n",
       "          docLink.innerHTML = docLinkHtml;\n",
       "          element.appendChild(docLink);\n",
       "        }\n",
       "      </script>\n",
       "    </div>\n",
       "  </div>\n",
       "  "
      ],
      "text/plain": [
       "          mdate  open_d  high_d  low_d  close_d     volume\n",
       "0    2020-01-02   332.5   339.0  332.5    339.0  33282.120\n",
       "1    2020-01-03   344.0   345.0  335.5    339.5  42023.268\n",
       "2    2020-01-06   333.0   334.5  332.0    332.0  45677.057\n",
       "3    2020-01-07   332.5   333.0  326.5    329.5  51746.181\n",
       "4    2020-01-08   325.0   333.0  325.0    329.5  37913.748\n",
       "..          ...     ...     ...    ...      ...        ...\n",
       "730  2022-12-26   454.0   457.0  453.5    456.5   9152.790\n",
       "731  2022-12-27   458.0   462.5  457.0    457.0  10486.219\n",
       "732  2022-12-28   451.0   452.0  446.0    451.0  34823.492\n",
       "733  2022-12-29   444.0   449.5  442.5    446.0  25596.357\n",
       "734  2022-12-30   455.0   456.5  448.5    448.5  22297.604\n",
       "\n",
       "[735 rows x 6 columns]"
      ]
     },
     "execution_count": 3,
     "metadata": {},
     "output_type": "execute_result"
    }
   ],
   "source": [
    "df = pd.read_csv(\"data_path\")\n",
    "df= df.drop(columns=[\"None\"])\n",
    "df"
   ]
  },
  {
   "cell_type": "markdown",
   "metadata": {
    "id": "964znVY2ZHwp"
   },
   "source": [
    "## LSTM"
   ]
  },
  {
   "cell_type": "code",
   "execution_count": 4,
   "metadata": {
    "colab": {
     "base_uri": "https://localhost:8080/",
     "height": 708
    },
    "id": "vnQvD3Wq5BhQ",
    "outputId": "efb80d56-12ad-4155-ea35-c586a48b5ed2"
   },
   "outputs": [
    {
     "name": "stderr",
     "output_type": "stream",
     "text": [
      "<ipython-input-4-5b03fecedc8a>:30: UserWarning: Creating a tensor from a list of numpy.ndarrays is extremely slow. Please consider converting the list to a single numpy.ndarray with numpy.array() before converting to a tensor. (Triggered internally at ../torch/csrc/utils/tensor_new.cpp:245.)\n",
      "  return torch.tensor(X), torch.tensor(y).view(-1, 1)\n"
     ]
    },
    {
     "name": "stdout",
     "output_type": "stream",
     "text": [
      "torch.Size([487, 5, 4]) torch.Size([487, 1])\n",
      "torch.Size([238, 5, 4]) torch.Size([238, 1])\n",
      "Epoch 0: train_loss 1.2361, val_loss 0.8251\n",
      "Epoch 100: train_loss 0.1552, val_loss 0.0242\n",
      "Epoch 200: train_loss 0.1046, val_loss 0.0221\n",
      "Epoch 300: train_loss 0.0975, val_loss 0.0235\n",
      "Epoch 400: train_loss 0.0493, val_loss 0.0354\n",
      "Epoch 500: train_loss 0.0392, val_loss 0.0289\n",
      "Epoch 600: train_loss 0.0271, val_loss 0.0263\n",
      "Epoch 700: train_loss 0.0185, val_loss 0.0253\n",
      "Epoch 800: train_loss 0.0145, val_loss 0.0193\n",
      "Epoch 900: train_loss 0.0187, val_loss 0.0221\n"
     ]
    },
    {
     "data": {
      "image/png": "[encoded data removed]",
      "text/plain": [
       "<Figure size 640x480 with 1 Axes>"
      ]
     },
     "metadata": {},
     "output_type": "display_data"
    }
   ],
   "source": [
    "timeseries = df[[\"open_d\", \"high_d\", \"low_d\",\"close_d\"]].values.astype('float32')\n",
    "\n",
    "# 只使用收盤價作為input\n",
    "# timeseries = df[[\"close_d\"]].values.astype('float32')\n",
    "\n",
    "# 一定要先將資料標準化，不然loss值會過大導致無法收斂，且預測值全部變成同一個數\n",
    "# scaler\n",
    "scaler = StandardScaler()\n",
    "timeseries = scaler.fit_transform(timeseries)\n",
    "\n",
    "# train-val split for time series\n",
    "train_size = int(len(timeseries) * 0.67)\n",
    "test_size = len(timeseries) - train_size\n",
    "train, val = timeseries[:train_size], timeseries[train_size:]\n",
    "\n",
    " \n",
    "def create_dataset(dataset, lookback):\n",
    "\n",
    "    X, y = [], []\n",
    "    for i in range(len(dataset)-lookback):\n",
    "        feature = dataset[i:i+lookback, :]\n",
    "        target = dataset[i+1:i+lookback+1][-1][-1]\n",
    "\n",
    "        # 只使用收盤價作為input\n",
    "        # feature = dataset[i:i+lookback]\n",
    "        # target = dataset[i+1:i+lookback+1][-1]\n",
    "\n",
    "        X.append(feature)\n",
    "        y.append(target)\n",
    "    return torch.tensor(X), torch.tensor(y).view(-1, 1)\n",
    "\n",
    "lookback = 5\n",
    "X_train, y_train = create_dataset(train, lookback=lookback)\n",
    "X_val, y_val = create_dataset(val, lookback=lookback)\n",
    "print(X_train.size(), y_train.size())\n",
    "print(X_val.size(), y_val.size())\n",
    "\n",
    "input_size = timeseries.shape[-1]\n",
    "\n",
    "class LSTM_Model(nn.Module):\n",
    "    def __init__(self):\n",
    "        super().__init__()\n",
    "        self.lstm = nn.LSTM(input_size = input_size, hidden_size=64, num_layers=2, batch_first = True)\n",
    "        self.linear = nn.Linear(64, 1)\n",
    "        self.dropout = nn.Dropout(0.1)\n",
    "    def forward(self, x):\n",
    "        x, _ = self.lstm(x)\n",
    "        x = self.dropout(x)\n",
    "        x = x[:, -1, :]\n",
    "        x = self.linear(x)\n",
    "        return x\n",
    "\n",
    "model = LSTM_Model()\n",
    "# optimizer = optim.Adam(model.parameters())\n",
    "# 使用SDG或Adam演算法的lstm經常會用RMSprop做為優化方向，因為，它收斂的速度會比較快，原因是RMSprop 的學習速率(learning rate)會隨著之前的梯度總和作反向的調整。\n",
    "optimizer = optim.RMSprop(model.parameters())\n",
    "loss_fn = nn.MSELoss()\n",
    "n_epochs = 1000\n",
    "\n",
    "loader = data.DataLoader(data.TensorDataset(X_train, y_train), shuffle=False, batch_size=8)\n",
    "train_loss_array = []\n",
    "val_loss_array = []\n",
    "\n",
    "for epoch in range(n_epochs):\n",
    "    model.train()\n",
    "    for X_batch, y_batch in loader:\n",
    "        y_pred = model(X_batch)\n",
    "        loss = loss_fn(y_pred, y_batch)\n",
    "\n",
    "        optimizer.zero_grad()\n",
    "        loss.backward()\n",
    "        optimizer.step()\n",
    "\n",
    "    # 確認loss值的變化正常\n",
    "    # if epoch % 100 ==0:\n",
    "    #     print(y_pred)\n",
    "\n",
    "    # Validation\n",
    "    model.eval()\n",
    "    with torch.no_grad():\n",
    "        y_pred = model(X_train)\n",
    "        # train_rmse = np.sqrt(loss_fn(y_pred, y_train))\n",
    "        train_loss = loss_fn(y_pred, y_train).item()\n",
    "\n",
    "        y_pred = model(X_val)\n",
    "        # test_rmse = np.sqrt(loss_fn(y_pred, y_test))\n",
    "        val_loss = loss_fn(y_pred, y_val).item()\n",
    "\n",
    "        train_loss_array.append(train_loss)\n",
    "        val_loss_array.append(val_loss)\n",
    "\n",
    "    if epoch % 100 == 0:\n",
    "        print(\"Epoch %d: train_loss %.4f, val_loss %.4f\" % (epoch, train_loss, val_loss))\n",
    " \n",
    "with torch.no_grad():\n",
    "    model.eval()\n",
    "    # shift train predictions for plotting\n",
    "    # 因為timeseries包含開、高、低、收等資料，因此需要timeseries[:, -1]取得最後一項 收盤價 的欄位長度即可\n",
    "    train_plot = np.ones_like(timeseries[:, -1]) * np.nan\n",
    "    y_pred = model(X_train)\n",
    "    # train_plot.shape == (len(X_train), )為一維矩陣，model(X_train).size == (len(X_train), 1)為二維矩陣，因此需要view()\n",
    "    train_plot[lookback:train_size] = model(X_train).view(-1)\n",
    "\n",
    "    # shift test predictions for plotting\n",
    "    test_plot = np.ones_like(timeseries[:,-1]) * np.nan\n",
    "    test_plot[train_size+lookback:len(timeseries)] = model(X_val).view(-1)\n",
    "\n",
    "# plot\n",
    "# 因為timeseries包含開、高、低、收等資料，因此需要timeseries[:, -1]取得最後一項 收盤價 的欄位資料即可\n",
    "plt.plot(timeseries[:, -1])\n",
    "plt.plot(train_plot)\n",
    "plt.plot(test_plot)\n",
    "plt.show()"
   ]
  },
  {
   "cell_type": "markdown",
   "metadata": {
    "id": "qy-k03jBX2PJ"
   },
   "source": [
    "收盤價預測繪圖"
   ]
  },
  {
   "cell_type": "markdown",
   "metadata": {
    "id": "S9WoGv6ymG_v"
   },
   "source": [
    "## **測試集**"
   ]
  },
  {
   "cell_type": "code",
   "execution_count": 7,
   "metadata": {
    "id": "KwcEInq0ZIEu"
   },
   "outputs": [],
   "source": [
    "df_test = pd.read_csv(\"/content/drive/MyDrive/LSTM/2330_test.csv\")\n",
    "# df= df.drop(columns=[\"None\"])\n",
    "# test_data = df_test[[\"close_d\"]].values.astype(\"float32\")\n",
    "test_data = df_test[[\"open_d\", \"high_d\", \"low_d\",\"close_d\"]].values.astype('float32')"
   ]
  },
  {
   "cell_type": "code",
   "execution_count": 8,
   "metadata": {
    "id": "Lcff5MKj3Buc"
   },
   "outputs": [],
   "source": [
    "test_data = scaler.transform(test_data)\n",
    "x, y  = create_dataset(test_data, lookback=5)\n",
    "pred = model(x)\n"
   ]
  },
  {
   "cell_type": "code",
   "execution_count": 9,
   "metadata": {
    "colab": {
     "base_uri": "https://localhost:8080/",
     "height": 430
    },
    "id": "5T2TZQpC1iSK",
    "outputId": "1f2c1d09-04e5-4406-a39f-f1e028bbc12f"
   },
   "outputs": [
    {
     "data": {
      "image/png": "[encoded data removed]",
      "text/plain": [
       "<Figure size 640x480 with 1 Axes>"
      ]
     },
     "metadata": {},
     "output_type": "display_data"
    }
   ],
   "source": [
    "plt.plot(pred.detach().numpy(), c = \"b\")\n",
    "plt.plot(y.detach().numpy(), c = \"g\")\n",
    "plt.show()"
   ]
  },
  {
   "cell_type": "code",
   "execution_count": 12,
   "metadata": {
    "id": "8DTh4siza18V"
   },
   "outputs": [],
   "source": []
  }
 ],
 "metadata": {
  "accelerator": "GPU",
  "colab": {
   "provenance": []
  },
  "gpuClass": "standard",
  "kernelspec": {
   "display_name": "Python 3 (ipykernel)",
   "language": "python",
   "name": "python3"
  },
  "language_info": {
   "codemirror_mode": {
    "name": "ipython",
    "version": 3
   },
   "file_extension": ".py",
   "mimetype": "text/x-python",
   "name": "python",
   "nbconvert_exporter": "python",
   "pygments_lexer": "ipython3",
   "version": "3.9.12"
  }
 },
 "nbformat": 4,
 "nbformat_minor": 1
}
